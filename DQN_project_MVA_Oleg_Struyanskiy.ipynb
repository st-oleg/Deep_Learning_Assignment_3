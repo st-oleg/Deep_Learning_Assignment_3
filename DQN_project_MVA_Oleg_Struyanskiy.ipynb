{
 "cells": [
  {
   "cell_type": "markdown",
   "metadata": {},
   "source": [
    "**You may need to install [OpenCV](https://pypi.python.org/pypi/opencv-python) and [scikit-video](http://www.scikit-video.org/stable/).**"
   ]
  },
  {
   "cell_type": "code",
   "execution_count": 1,
   "metadata": {},
   "outputs": [
    {
     "name": "stderr",
     "output_type": "stream",
     "text": [
      "Using TensorFlow backend.\n"
     ]
    }
   ],
   "source": [
    "import keras\n",
    "import numpy as np\n",
    "import io\n",
    "import base64\n",
    "from IPython.display import HTML\n",
    "import skvideo.io\n",
    "import cv2\n",
    "import json\n",
    "\n",
    "from keras.models import Sequential,model_from_json\n",
    "from keras.layers.core import Dense, Flatten, Dropout\n",
    "from keras.optimizers import sgd, adam\n",
    "from keras.layers import Conv2D, MaxPooling2D, Activation, AveragePooling2D,Reshape,BatchNormalization"
   ]
  },
  {
   "cell_type": "markdown",
   "metadata": {},
   "source": [
    "# MiniProject #3: Deep Reinforcement Learning"
   ]
  },
  {
   "cell_type": "markdown",
   "metadata": {},
   "source": [
    "__Notations__: $E_p$ is the expectation under probability $p$. Please justify each of your answer and widely comment your code."
   ]
  },
  {
   "cell_type": "markdown",
   "metadata": {},
   "source": [
    "# Context"
   ]
  },
  {
   "cell_type": "markdown",
   "metadata": {},
   "source": [
    "In a reinforcement learning algorithm, we modelize each step $t$ as an action $a_t$ obtained from a state $s_t$, i.e. $\\{(a_{t},s_{t})_{t\\leq T}\\}$ having the Markov property. We consider a discount factor $\\gamma \\in [0,1]$ that ensures convergence. The goal is to find among all the policies $\\pi$, one that maximizes the expected reward:\n",
    "\n",
    "\\begin{equation*}\n",
    "R(\\pi)=\\sum_{t\\leq T}E_{p^{\\pi}}[\\gamma^t r(s_{t},a_{t})] \\> ,\n",
    "\\end{equation*}\n",
    "\n",
    "where: \n",
    "\\begin{equation*}p^{\\pi}(a_{0},a_{1},s_{1},...,a_{T},s_{T})=p(a_{0})\\prod_{t=1}^{T}\\pi(a_{t}|s_{t})p(s_{t+1}|s_{t},a_{t}) \\> .\n",
    "\\end{equation*}\n",
    "\n",
    "We note the $Q$-function:\n",
    "\n",
    "\\begin{equation*}Q^\\pi(s,a)=E_{p^{\\pi}}[\\sum_{t\\leq T}\\gamma^{t}r(s_{t},a_{t})|s_{0}=s,a_{0}=a] \\> .\n",
    "\\end{equation*}\n",
    "\n",
    "Thus, the optimal Q function is:\n",
    "\\begin{equation*}\n",
    "Q^*(s,a)=\\max_{\\pi}Q^\\pi(s,a) \\> .\n",
    "\\end{equation*}\n",
    "\n",
    "In this project, we will apply the deep reinforcement learning techniques to a simple game: an agent will have to learn from scratch a policy that will permit it maximizing a reward."
   ]
  },
  {
   "cell_type": "markdown",
   "metadata": {},
   "source": [
    "## The environment, the agent and the game"
   ]
  },
  {
   "cell_type": "markdown",
   "metadata": {},
   "source": [
    "### The environment"
   ]
  },
  {
   "cell_type": "markdown",
   "metadata": {},
   "source": [
    "```Environment``` is an abstract class that represents the states, rewards, and actions to obtain the new state."
   ]
  },
  {
   "cell_type": "code",
   "execution_count": 2,
   "metadata": {},
   "outputs": [],
   "source": [
    "class Environment(object):\n",
    "    def __init__(self):\n",
    "        pass\n",
    "\n",
    "    def act(self, act):\n",
    "        \"\"\"\n",
    "        One can act on the environment and obtain its reaction:\n",
    "        - the new state\n",
    "        - the reward of the new state\n",
    "        - should we continue the game?\n",
    "\n",
    "        :return: state, reward, game_over\n",
    "        \"\"\"\n",
    "        pass\n",
    "\n",
    "\n",
    "    def reset(self):\n",
    "        \"\"\"\n",
    "        Reinitialize the environment to a random state and returns\n",
    "        the original state\n",
    "\n",
    "        :return: state\n",
    "        \"\"\"\n",
    "        pass\n",
    "    \n",
    "    def draw(self):\n",
    "        \"\"\"\n",
    "        Visualize in the console or graphically the current state\n",
    "        \"\"\"\n",
    "        pass"
   ]
  },
  {
   "cell_type": "markdown",
   "metadata": {},
   "source": [
    "The method ```act``` allows to act on the environment at a given state $s_t$ (stored internally), via action $a_t$. The method will return the new state $s_{t+1}$, the reward $r(s_{t},a_{t})$ and determines if $t\\leq T$ (*game_over*).\n",
    "\n",
    "The method ```reset``` simply reinitializes the environment to a random state $s_0$.\n",
    "\n",
    "The method ```draw``` displays the current state $s_t$ (this is useful to check the behavior of the Agent).\n",
    "\n",
    "We modelize $s_t$ as a tensor, while $a_t$ is an integer."
   ]
  },
  {
   "cell_type": "markdown",
   "metadata": {},
   "source": [
    "### The Agent"
   ]
  },
  {
   "cell_type": "markdown",
   "metadata": {},
   "source": [
    "The goal of the ```Agent``` is to interact with the ```Environment``` by proposing actions $a_t$ obtained from a given state $s_t$ to attempt to maximize its __reward__ $r(s_t,a_t)$. We propose the following abstract class:"
   ]
  },
  {
   "cell_type": "code",
   "execution_count": 3,
   "metadata": {},
   "outputs": [],
   "source": [
    "class Agent(object):\n",
    "    def __init__(self, epsilon=0.1, n_action=4):\n",
    "        self.epsilon = epsilon\n",
    "        self.n_action = n_action\n",
    "    \n",
    "    def set_epsilon(self,e):\n",
    "        self.epsilon = e\n",
    "\n",
    "    def act(self,s,train=True):\n",
    "        \"\"\" This function should return the next action to do:\n",
    "        an integer between 0 and 4 (not included) with a random exploration of epsilon\"\"\"\n",
    "        if train:\n",
    "            if np.random.rand() <= self.epsilon:\n",
    "                a = np.random.randint(0, self.n_action, size=1)[0]\n",
    "            else:\n",
    "                a = self.learned_act(s)\n",
    "        else: # in some cases, this can improve the performance.. remove it if poor performances\n",
    "            a = self.learned_act(s)\n",
    "\n",
    "        return a\n",
    "\n",
    "    def learned_act(self,s):\n",
    "        \"\"\" Act via the policy of the agent, from a given state s\n",
    "        it proposes an action a\"\"\"\n",
    "        pass\n",
    "\n",
    "    def reinforce(self, s, n_s, a, r, game_over_):\n",
    "        \"\"\" This function is the core of the learning algorithm. \n",
    "        It takes as an input the current state s_, the next state n_s_\n",
    "        the action a_ used to move from s_ to n_s_ and the reward r_.\n",
    "        \n",
    "        Its goal is to learn a policy.\n",
    "        \"\"\"\n",
    "        pass\n",
    "\n",
    "    def save(self):\n",
    "        \"\"\" This function returns basic stats if applicable: the\n",
    "        loss and/or the model\"\"\"\n",
    "        pass\n",
    "\n",
    "    def load(self):\n",
    "        \"\"\" This function allows to restore a model\"\"\"\n",
    "        pass"
   ]
  },
  {
   "cell_type": "markdown",
   "metadata": {},
   "source": [
    "***\n",
    "__Question 1__:\n",
    "Explain the function act. Why is ```epsilon``` essential?"
   ]
  },
  {
   "cell_type": "markdown",
   "metadata": {},
   "source": [
    "The act function chooses the next action for the agent to take.\n",
    "\n",
    "The Epsolon parameter corresponds to the trade off between exploitation and exploration. The agent explores the effect of a random action with probability epsilon (explores), or acts via the policy it has learned so far (exploites)\n",
    "\n",
    "This choice happends only during trainig, during testing the agent always exploites the learned policy."
   ]
  },
  {
   "cell_type": "markdown",
   "metadata": {},
   "source": [
    "***\n",
    "### The Game"
   ]
  },
  {
   "cell_type": "markdown",
   "metadata": {},
   "source": [
    "The ```Agent``` and the ```Environment``` work in an interlaced way as in the following (take some time to understand this code as it is the core of the project)\n",
    "\n",
    "```python\n",
    "\n",
    "epoch = 300\n",
    "env = Environment()\n",
    "agent = Agent()\n",
    "\n",
    "\n",
    "# Number of won games\n",
    "score = 0\n",
    "loss = 0\n",
    "\n",
    "\n",
    "for e in range(epoch):\n",
    "    # At each epoch, we restart to a fresh game and get the initial state\n",
    "    state = env.reset()\n",
    "    # This assumes that the games will end\n",
    "    game_over = False\n",
    "\n",
    "    win = 0\n",
    "    lose = 0\n",
    "    \n",
    "    while not game_over:\n",
    "        # The agent performs an action\n",
    "        action = agent.act(state)\n",
    "\n",
    "        # Apply an action to the environment, get the next state, the reward\n",
    "        # and if the games end\n",
    "        prev_state = state\n",
    "        state, reward, game_over = env.act(action)\n",
    "\n",
    "        # Update the counters\n",
    "        if reward > 0:\n",
    "            win = win + reward\n",
    "        if reward < 0:\n",
    "            lose = lose -reward\n",
    "\n",
    "        # Apply the reinforcement strategy\n",
    "        loss = agent.reinforce(prev_state, state,  action, reward, game_over)\n",
    "\n",
    "    # Save as a mp4\n",
    "    if e % 10 == 0:\n",
    "        env.draw(e)\n",
    "\n",
    "    # Update stats\n",
    "    score += win-lose\n",
    "\n",
    "    print(\"Epoch {:03d}/{:03d} | Loss {:.4f} | Win/lose count {}/{} ({})\"\n",
    "          .format(e, epoch, loss, win, lose, win-lose))\n",
    "    agent.save()\n",
    "```"
   ]
  },
  {
   "cell_type": "markdown",
   "metadata": {},
   "source": [
    "# The game, *eat cheese*"
   ]
  },
  {
   "cell_type": "markdown",
   "metadata": {},
   "source": [
    "A rat runs on an island and tries to eat as much as possible. The island is subdivided into $N\\times N$ cells, in which there are cheese (+0.5) and poisonous cells (-1). The rat has a visibility of 2 cells (thus it can see $5^2$ cells). The rat is given a time $T$ to accumulate as much food as possible. It can perform 4 actions: going up, down, left, right. \n",
    "\n",
    "The goal is to code an agent to solve this task that will learn by trial and error. We propose the following environment:"
   ]
  },
  {
   "cell_type": "code",
   "execution_count": 4,
   "metadata": {},
   "outputs": [],
   "source": [
    "class Environment(object):\n",
    "    def __init__(self, grid_size=10, max_time=500, temperature=0.1):\n",
    "        grid_size = grid_size+4\n",
    "        self.grid_size = grid_size\n",
    "        self.max_time = max_time\n",
    "        self.temperature = temperature\n",
    "\n",
    "        #board on which one plays\n",
    "        self.board = np.zeros((grid_size,grid_size))\n",
    "        self.position = np.zeros((grid_size,grid_size))\n",
    "\n",
    "        # coordinate of the cat\n",
    "        self.x = 0\n",
    "        self.y = 1\n",
    "\n",
    "        # self time\n",
    "        self.t = 0\n",
    "\n",
    "        self.scale=16\n",
    "\n",
    "        self.to_draw = np.zeros((max_time+2, grid_size*self.scale, grid_size*self.scale, 3))\n",
    "\n",
    "\n",
    "    def draw(self,e):\n",
    "        skvideo.io.vwrite(str(e) + '.mp4', self.to_draw)\n",
    "\n",
    "    def get_frame(self,t):\n",
    "        b = np.zeros((self.grid_size,self.grid_size,3))+128\n",
    "        b[self.board>0,0] = 256\n",
    "        b[self.board < 0, 2] = 256\n",
    "        b[self.x,self.y,:]=256\n",
    "        b[-2:,:,:]=0\n",
    "        b[:,-2:,:]=0\n",
    "        b[:2,:,:]=0\n",
    "        b[:,:2,:]=0\n",
    "        \n",
    "        b =  cv2.resize(b, None, fx=self.scale, fy=self.scale, interpolation=cv2.INTER_NEAREST)\n",
    "\n",
    "        self.to_draw[t,:,:,:]=b\n",
    "\n",
    "\n",
    "    def act(self, action):\n",
    "        \"\"\"This function returns the new state, reward and decides if the\n",
    "        game ends.\"\"\"\n",
    "\n",
    "        self.get_frame(int(self.t))\n",
    "\n",
    "        self.position = np.zeros((self.grid_size, self.grid_size))\n",
    "\n",
    "        self.position[0:2,:]= -1\n",
    "        self.position[:,0:2] = -1\n",
    "        self.position[-2:, :] = -1\n",
    "        self.position[-2:, :] = -1\n",
    "\n",
    "        self.position[self.x, self.y] = 1\n",
    "        if action == 0:\n",
    "            if self.x == self.grid_size-3:\n",
    "                self.x = self.x-1\n",
    "            else:\n",
    "                self.x = self.x + 1\n",
    "        elif action == 1:\n",
    "            if self.x == 2:\n",
    "                self.x = self.x+1\n",
    "            else:\n",
    "                self.x = self.x-1\n",
    "        elif action == 2:\n",
    "            if self.y == self.grid_size - 3:\n",
    "                self.y = self.y - 1\n",
    "            else:\n",
    "                self.y = self.y + 1\n",
    "        elif action == 3:\n",
    "            if self.y == 2:\n",
    "                self.y = self.y + 1\n",
    "            else:\n",
    "                self.y = self.y - 1\n",
    "        else:\n",
    "            RuntimeError('Error: action not recognized')\n",
    "\n",
    "        self.t = self.t + 1\n",
    "        reward = self.board[self.x, self.y]\n",
    "        self.board[self.x, self.y] = 0\n",
    "        game_over = self.t > self.max_time\n",
    "        state = np.concatenate((self.board.reshape(self.grid_size, self.grid_size,1),\n",
    "                        self.position.reshape(self.grid_size, self.grid_size,1)),axis=2)\n",
    "        state = state[self.x-2:self.x+3,self.y-2:self.y+3,:]\n",
    "\n",
    "        return state, reward, game_over\n",
    "\n",
    "    def reset(self):\n",
    "        \"\"\"This function resets the game and returns the initial state\"\"\"\n",
    "\n",
    "        self.x = np.random.randint(3, self.grid_size-3, size=1)[0]\n",
    "        self.y = np.random.randint(3, self.grid_size-3, size=1)[0]\n",
    "\n",
    "\n",
    "        bonus = 0.5*np.random.binomial(1,self.temperature,size=self.grid_size**2)\n",
    "        bonus = bonus.reshape(self.grid_size,self.grid_size)\n",
    "\n",
    "        malus = -1.0*np.random.binomial(1,self.temperature,size=self.grid_size**2)\n",
    "        malus = malus.reshape(self.grid_size, self.grid_size)\n",
    "\n",
    "        self.to_draw = np.zeros((self.max_time+2, self.grid_size*self.scale, self.grid_size*self.scale, 3))\n",
    "\n",
    "\n",
    "        malus[bonus>0]=0\n",
    "\n",
    "        self.board = bonus + malus\n",
    "\n",
    "        self.position = np.zeros((self.grid_size, self.grid_size))\n",
    "        self.position[0:2,:]= -1\n",
    "        self.position[:,0:2] = -1\n",
    "        self.position[-2:, :] = -1\n",
    "        self.position[-2:, :] = -1\n",
    "        self.board[self.x,self.y] = 0\n",
    "        self.t = 0\n",
    "\n",
    "        state = np.concatenate((\n",
    "                               self.board.reshape(self.grid_size, self.grid_size,1),\n",
    "                        self.position.reshape(self.grid_size, self.grid_size,1)),axis=2)\n",
    "\n",
    "        state = state[self.x - 2:self.x + 3, self.y - 2:self.y + 3, :]\n",
    "        return state"
   ]
  },
  {
   "cell_type": "markdown",
   "metadata": {},
   "source": [
    "The following elements are important because they correspond to the hyper parameters for this project:"
   ]
  },
  {
   "cell_type": "code",
   "execution_count": 5,
   "metadata": {},
   "outputs": [],
   "source": [
    "# parameters\n",
    "size = 13\n",
    "T=200\n",
    "temperature=0.3\n",
    "epochs_train=30 # set small when debugging\n",
    "epochs_test=15 # set small when debugging\n",
    "\n",
    "# display videos\n",
    "def display_videos(name):\n",
    "    video = io.open(name, 'r+b').read()\n",
    "    encoded = base64.b64encode(video)\n",
    "    return '''<video alt=\"test\" controls>\n",
    "                <source src=\"data:video/mp4;base64,{0}\" type=\"video/mp4\" />\n",
    "             </video>'''.format(encoded.decode('ascii'))"
   ]
  },
  {
   "cell_type": "markdown",
   "metadata": {},
   "source": [
    "__Question 2__ Explain the use of the arrays ```position``` and ```board```."
   ]
  },
  {
   "cell_type": "markdown",
   "metadata": {},
   "source": [
    "Board -  keeps informaiton about rewards availible on different positions on the grid (0, 0.5 or -1). Once the agent takes the a articular position on the grid, it 'takes' the reward, the corresponding field of the array is set to 0. The array is set once in the beginig of the game and updated with every step of an agent - the field occupied by agent set to 0\n",
    "\n",
    "Position - keeps the imformation about positino of the agent on the grid, 0 - vacant places on the grid, -1 - border points, 1 - previous position of the agent. The value 1 is set to the current position of the grid before updating self.x, self.y, so the array keeps inforamtion on the positino of the agent before taking the last step\n",
    "\n",
    "At the end of every step the arrays 'Board' and 'Position' are combined into the 'State. The rat has a visibility of 2 cells, so only a part of the 'state' array is returned from the act function - the 25 cells surrounding the new position of the agent"
   ]
  },
  {
   "cell_type": "markdown",
   "metadata": {},
   "source": [
    "## Random Agent"
   ]
  },
  {
   "cell_type": "markdown",
   "metadata": {},
   "source": [
    "***\n",
    "__Question 3__ Implement a random Agent (only ```learned_act``` needs to be implemented):"
   ]
  },
  {
   "cell_type": "code",
   "execution_count": 7,
   "metadata": {},
   "outputs": [],
   "source": [
    "class RandomAgent(Agent):\n",
    "    def __init__(self):\n",
    "        super(RandomAgent, self).__init__()\n",
    "        \n",
    "\n",
    "    def learned_act(self, s):\n",
    "        return np.random.randint(0,4)"
   ]
  },
  {
   "cell_type": "markdown",
   "metadata": {},
   "source": [
    "***\n",
    "***\n",
    "__Question 4__ Visualize the game moves. You need to fill in the following function for the evaluation:"
   ]
  },
  {
   "cell_type": "code",
   "execution_count": 8,
   "metadata": {},
   "outputs": [],
   "source": [
    "def test(agent,env,epochs,prefix=''):\n",
    "    # Number of won games\n",
    "    score = 0\n",
    "        \n",
    "    for e in range(epochs):\n",
    "        state = env.reset()\n",
    "        game_over = False\n",
    "        win = 0\n",
    "        lose = 0\n",
    "        while not game_over:\n",
    "            # The agent performs an action\n",
    "            action = agent.act(state,train=False)\n",
    "            prev_state = state\n",
    "            state, reward, game_over = env.act(action)\n",
    "\n",
    "            # Update the counters\n",
    "            if reward > 0:\n",
    "                win = win + reward\n",
    "            if reward < 0:\n",
    "                lose = lose -reward\n",
    "        \n",
    "        # Save as a mp4\n",
    "        env.draw(prefix+str(e))\n",
    "\n",
    "        # Update stats\n",
    "        score = score + win-lose\n",
    "\n",
    "        print(\"Win/lose count {}/{}. Average score ({})\"\n",
    "              .format(win, lose, score/(1+e)))\n",
    "    print('Final score: '+str(score/epochs))"
   ]
  },
  {
   "cell_type": "code",
   "execution_count": 9,
   "metadata": {},
   "outputs": [
    {
     "name": "stdout",
     "output_type": "stream",
     "text": [
      "Win/lose count 7.5/7.0. Average score (0.5)\n",
      "Win/lose count 7.0/6.0. Average score (0.75)\n",
      "Win/lose count 14.5/16.0. Average score (0.0)\n",
      "Win/lose count 9.5/17.0. Average score (-1.875)\n",
      "Win/lose count 7.0/13.0. Average score (-2.7)\n",
      "Win/lose count 13.0/12.0. Average score (-2.0833333333333335)\n",
      "Win/lose count 12.5/19.0. Average score (-2.7142857142857144)\n",
      "Win/lose count 10.5/15.0. Average score (-2.9375)\n",
      "Win/lose count 10.5/13.0. Average score (-2.888888888888889)\n",
      "Win/lose count 10.0/14.0. Average score (-3.0)\n",
      "Win/lose count 12.0/14.0. Average score (-2.909090909090909)\n",
      "Win/lose count 5.5/13.0. Average score (-3.2916666666666665)\n",
      "Win/lose count 12.5/20.0. Average score (-3.6153846153846154)\n",
      "Win/lose count 9.5/16.0. Average score (-3.8214285714285716)\n",
      "Win/lose count 10.5/16.0. Average score (-3.933333333333333)\n",
      "Final score: -3.933333333333333\n"
     ]
    },
    {
     "data": {
      "text/html": [
       "<video alt=\"test\" controls>\n",
       "                <source src=\"data:video/mp4;base64,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\" type=\"video/mp4\" />\n",
       "             </video>"
      ],
      "text/plain": [
       "<IPython.core.display.HTML object>"
      ]
     },
     "execution_count": 9,
     "metadata": {},
     "output_type": "execute_result"
    }
   ],
   "source": [
    "# Initialize the game\n",
    "env = Environment(grid_size=size, max_time=T,temperature=temperature)\n",
    "\n",
    "# Initialize the agent!\n",
    "agent = RandomAgent()\n",
    "\n",
    "test(agent,env,epochs_test,prefix='random')\n",
    "HTML(display_videos('random0.mp4'))"
   ]
  },
  {
   "cell_type": "code",
   "execution_count": 10,
   "metadata": {},
   "outputs": [],
   "source": [
    "## DQN"
   ]
  },
  {
   "cell_type": "markdown",
   "metadata": {},
   "source": [
    "Let us assume here that $T=\\infty$.\n",
    "\n",
    "***\n",
    "__Question 5__ Let $\\pi$ be a policy, show that:\n",
    "\n",
    "\\begin{equation*}\n",
    "Q^{\\pi}(s,a)=E_{(s',a')\\sim p(.|s,a)}[r(s,a)+\\gamma Q^{\\pi}(s',a')]\n",
    "\\end{equation*}\n",
    "\n",
    "Then, show that for the optimal policy $\\pi^*$ (we assume its existence), the following holds: \n",
    "\n",
    "\\begin{equation*}\n",
    "Q^{*}(s,a)=E_{s'\\sim \\pi^*(.|s,a)}[r(s,a)+\\gamma\\max_{a'}Q^{*}(s',a')].\n",
    "\\end{equation*}\n",
    "Finally, deduce that a plausible objective is:\n",
    "\n",
    "\\begin{equation*}\n",
    "\\mathcal{L}(\\theta)=E_{s' \\sim \\pi^*(.|s,a)}\\Vert r+\\gamma\\max\\max_{a'}Q(s',a',\\theta)-Q(s,a,\\theta)\\Vert^{2}.\n",
    "\\end{equation*}\n",
    "\n",
    "\n"
   ]
  },
  {
   "cell_type": "markdown",
   "metadata": {},
   "source": [
    "The answer is in a separate file \"Question_5.pdf\"\n",
    "\n"
   ]
  },
  {
   "cell_type": "markdown",
   "metadata": {},
   "source": [
    "***\n",
    "The DQN-learning algorithm relies on these derivations to train the parameters $\\theta$ of a Deep Neural Network:\n",
    "\n",
    "1. At the state $s_t$, select the action $a_t$ with best reward using $Q_t$ and store the results;\n",
    "\n",
    "2. Obtain the new state $s_{t+1}$ from the environment $p$;\n",
    "\n",
    "3. Store $(s_t,a_t,s_{t+1})$;\n",
    "\n",
    "4. Obtain $Q_{t+1}$ by minimizing  $\\mathcal{L}$ from a recovered batch from the previously stored results.\n",
    "\n",
    "***\n",
    "__Question 6__ Implement the class ```Memory``` that stores moves (in a replay buffer) via ```remember``` and provides a ```random_access``` to these. Specify a maximum memory size to avoid side effects. You can for example use a ```list()``` and set by default ```max_memory=100```."
   ]
  },
  {
   "cell_type": "code",
   "execution_count": 11,
   "metadata": {},
   "outputs": [],
   "source": [
    "class Memory(object):\n",
    "    def __init__(self, max_memory=100):\n",
    "        self.max_memory = max_memory\n",
    "        self.memory = list()\n",
    "\n",
    "    def remember(self, m):\n",
    "        self.memory.append(m)\n",
    "        if len(self.memory) > self.max_memory:\n",
    "            self.memory = self.memory[1:]\n",
    "\n",
    "    def random_access(self):\n",
    "        index = np.random.randint(0,len(self.memory))\n",
    "        return self.memory[index]"
   ]
  },
  {
   "cell_type": "markdown",
   "metadata": {},
   "source": [
    "***\n",
    "The pipeline we will use for training is given below:"
   ]
  },
  {
   "cell_type": "code",
   "execution_count": 12,
   "metadata": {},
   "outputs": [],
   "source": [
    "def train(agent,env,epoch,prefix=''):\n",
    "    # Number of won games\n",
    "    score = 0\n",
    "    loss = 0\n",
    "\n",
    "    for e in range(epoch):\n",
    "        # At each epoch, we restart to a fresh game and get the initial state\n",
    "        state = env.reset()\n",
    "        # This assumes that the games will terminate\n",
    "        game_over = False\n",
    "\n",
    "        win = 0\n",
    "        lose = 0\n",
    "\n",
    "        while not game_over:\n",
    "            # The agent performs an action\n",
    "            action = agent.act(state)\n",
    "\n",
    "            # Apply an action to the environment, get the next state, the reward\n",
    "            # and if the games end\n",
    "            prev_state = state\n",
    "            state, reward, game_over = env.act(action)\n",
    "\n",
    "            # Update the counters\n",
    "            if reward > 0:\n",
    "                win = win + reward\n",
    "            if reward < 0:\n",
    "                lose = lose -reward\n",
    "\n",
    "            # Apply the reinforcement strategy\n",
    "            loss = agent.reinforce(prev_state, state,  action, reward, game_over)\n",
    "\n",
    "        # Save as a mp4\n",
    "        if e % 10 == 0:\n",
    "            env.draw(prefix+str(e))\n",
    "\n",
    "        # Update stats\n",
    "        score += win-lose\n",
    "\n",
    "        print(\"Epoch {:03d}/{:03d} | Loss {:.4f} | Win/lose count {}/{} ({})\"\n",
    "              .format(e, epoch, loss, win, lose, win-lose))\n",
    "        agent.save(name_weights=prefix+'model.h5',name_model=prefix+'model.json')"
   ]
  },
  {
   "cell_type": "markdown",
   "metadata": {},
   "source": [
    "***\n",
    "__Question 7__ Implement the DQN training algorithm using a cascade of fully connected layers. You can use different learning rate, batch size or memory size parameters. In particular, the loss might oscillate while the player will start to win the games. You have to find a good criterium."
   ]
  },
  {
   "cell_type": "code",
   "execution_count": 13,
   "metadata": {},
   "outputs": [],
   "source": [
    "class DQN(Agent):\n",
    "    def __init__(self, grid_size,  epsilon = 0.1, memory_size=100, batch_size = 16,n_state=2):\n",
    "        super(DQN, self).__init__(epsilon = epsilon)\n",
    "\n",
    "        # Discount for Q learning\n",
    "        self.discount = 0.99\n",
    "        \n",
    "        self.grid_size = grid_size\n",
    "        \n",
    "        # number of state\n",
    "        self.n_state = n_state\n",
    "\n",
    "        # Memory\n",
    "        self.memory = Memory(memory_size)\n",
    "        \n",
    "        # Batch size when learning\n",
    "        self.batch_size = batch_size\n",
    "\n",
    "    def learned_act(self, s):\n",
    "        \n",
    "        ##### Fill in\n",
    "        \n",
    "        # predict the expected reward from state and chose the best action based on the prediction\n",
    "        rewards = self.model.predict(np.array([s]))\n",
    "        best_action = np.argmax(rewards[0])\n",
    "        \n",
    "        return best_action\n",
    "    \n",
    "        ##### \\ Fill in\n",
    "\n",
    "    def reinforce(self, s_, n_s_, a_, r_, game_over_):\n",
    "        # Two steps: first memorize the states, second learn from the pool\n",
    "        \n",
    "        s_ = np.array([s_])\n",
    "        n_s_ = np.array([n_s_])\n",
    "        self.memory.remember([s_, n_s_, a_, r_, game_over_])\n",
    "        \n",
    "        input_states = np.zeros((self.batch_size, 5,5,self.n_state))\n",
    "        target_q = np.zeros((self.batch_size, 4))\n",
    "        \n",
    "        for i in range(self.batch_size):\n",
    "            ##### Fill in \n",
    "\n",
    "            s_, n_s_, a_, r_, game_over_ = self.memory.random_access()\n",
    "            input_states[i]= s_\n",
    "            \n",
    "            # if not game over, compute the reward with the belman equasion\n",
    "            reward = r_ \n",
    "            if not game_over_:\n",
    "                reward += self.discount*np.max(self.model.predict(n_s_)[0])\n",
    "            \n",
    "            # get prediction for the current state, plug in the target reward and make a train iteration on that \n",
    "            target = self.model.predict(s_)\n",
    "            target[0][a_] = reward\n",
    "            self.model.fit(s_, target, epochs=1, verbose=0)\n",
    "            \n",
    "            target_q[i]=target\n",
    "            \n",
    "            ##### \\ Fill in\n",
    "\n",
    "        \n",
    "        # HINT: Clip the target to avoid exploiding gradients.. -- clipping is a bit tighter\n",
    "        target_q = np.clip(target_q, -3, 3)\n",
    "\n",
    "        l = self.model.train_on_batch(input_states, target_q)\n",
    "\n",
    "\n",
    "        return l\n",
    "\n",
    "    def save(self,name_weights='model.h5',name_model='model.json'):\n",
    "        self.model.save_weights(name_weights, overwrite=True)\n",
    "        with open(name_model, \"w\") as outfile:\n",
    "            json.dump(self.model.to_json(), outfile)\n",
    "            \n",
    "    def load(self,name_weights='model.h5',name_model='model.json'):\n",
    "        with open(name_model, \"r\") as jfile:\n",
    "            model = model_from_json(json.load(jfile))\n",
    "        model.load_weights(name_weights)\n",
    "        model.compile(\"sgd\", \"mse\")\n",
    "        self.model = model\n",
    "\n",
    "            \n",
    "class DQN_FC(DQN):\n",
    "    def __init__(self, *args, lr=0.1,**kwargs):\n",
    "        super(DQN_FC, self).__init__( *args,**kwargs)\n",
    "        \n",
    "        # NN Model\n",
    "        \n",
    "        ##### Fill in\n",
    "        \n",
    "        model = Sequential()\n",
    "        model.add(Flatten())\n",
    "        model.add(Dense(256, input_dim=64, activation='relu'))\n",
    "        model.add(Dense(256, activation='relu'))\n",
    "        model.add(Dense(64, activation='relu'))\n",
    "        model.add(Dense(32, activation='relu'))\n",
    "        model.add(Dense(4, activation='softmax'))\n",
    "            \n",
    "        ##### / Fill in\n",
    "        \n",
    "        \n",
    "        model.compile(sgd(lr=lr, decay=1e-4, momentum=0.0), \"mse\")\n",
    "#         model.compile(adam(lr=lr, decay=1e-4), \"mse\")\n",
    "        self.model = model\n"
   ]
  },
  {
   "cell_type": "code",
   "execution_count": 14,
   "metadata": {},
   "outputs": [
    {
     "name": "stdout",
     "output_type": "stream",
     "text": [
      "Epoch 000/030 | Loss 0.0007 | Win/lose count 2.5/1.0 (1.5)\n",
      "Epoch 001/030 | Loss 0.0009 | Win/lose count 2.5/4.0 (-1.5)\n",
      "Epoch 002/030 | Loss 0.0072 | Win/lose count 5.0/5.0 (0.0)\n",
      "Epoch 003/030 | Loss 0.0052 | Win/lose count 3.0/5.0 (-2.0)\n",
      "Epoch 004/030 | Loss 0.0036 | Win/lose count 2.5/3.0 (-0.5)\n",
      "Epoch 005/030 | Loss 0.0046 | Win/lose count 4.0/5.0 (-1.0)\n",
      "Epoch 006/030 | Loss 0.0013 | Win/lose count 3.5/4.0 (-0.5)\n",
      "Epoch 007/030 | Loss 0.0028 | Win/lose count 3.0/2.0 (1.0)\n",
      "Epoch 008/030 | Loss 0.0092 | Win/lose count 1.5/3.0 (-1.5)\n",
      "Epoch 009/030 | Loss 0.0043 | Win/lose count 4.0/2.0 (2.0)\n",
      "Epoch 010/030 | Loss 0.0038 | Win/lose count 0/1.0 (-1.0)\n",
      "Epoch 011/030 | Loss 0.0047 | Win/lose count 2.5/3.0 (-0.5)\n",
      "Epoch 012/030 | Loss 0.0020 | Win/lose count 5.0/1.0 (4.0)\n",
      "Epoch 013/030 | Loss 0.0007 | Win/lose count 3.0/1.0 (2.0)\n",
      "Epoch 014/030 | Loss 0.0057 | Win/lose count 3.5/1.0 (2.5)\n",
      "Epoch 015/030 | Loss 0.0028 | Win/lose count 2.0/2.0 (0.0)\n",
      "Epoch 016/030 | Loss 0.0040 | Win/lose count 4.5/3.0 (1.5)\n",
      "Epoch 017/030 | Loss 0.0019 | Win/lose count 2.5/3.0 (-0.5)\n",
      "Epoch 018/030 | Loss 0.0029 | Win/lose count 6.5/1.0 (5.5)\n",
      "Epoch 019/030 | Loss 0.0020 | Win/lose count 5.5/5.0 (0.5)\n",
      "Epoch 020/030 | Loss 0.0078 | Win/lose count 3.5/1.0 (2.5)\n",
      "Epoch 021/030 | Loss 0.0083 | Win/lose count 3.5/3.0 (0.5)\n",
      "Epoch 022/030 | Loss 0.0082 | Win/lose count 2.5/2.0 (0.5)\n",
      "Epoch 023/030 | Loss 0.0055 | Win/lose count 2.5/1.0 (1.5)\n",
      "Epoch 024/030 | Loss 0.0034 | Win/lose count 5.0/4.0 (1.0)\n",
      "Epoch 025/030 | Loss 0.0046 | Win/lose count 2.5/4.0 (-1.5)\n",
      "Epoch 026/030 | Loss 0.0055 | Win/lose count 3.0/0 (3.0)\n",
      "Epoch 027/030 | Loss 0.0154 | Win/lose count 5.0/1.0 (4.0)\n",
      "Epoch 028/030 | Loss 0.0030 | Win/lose count 4.5/4.0 (0.5)\n",
      "Epoch 029/030 | Loss 0.0072 | Win/lose count 4.0/3.0 (1.0)\n"
     ]
    },
    {
     "data": {
      "text/html": [
       "<video alt=\"test\" controls>\n",
       "                <source src=\"data:video/mp4;base64,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\" type=\"video/mp4\" />\n",
       "             </video>"
      ],
      "text/plain": [
       "<IPython.core.display.HTML object>"
      ]
     },
     "execution_count": 14,
     "metadata": {},
     "output_type": "execute_result"
    }
   ],
   "source": [
    "env = Environment(grid_size=size, max_time=T, temperature=0.3)\n",
    "agent = DQN_FC(size, lr=0.1, epsilon = 0.1, memory_size=2000, batch_size = 32)\n",
    "train(agent, env, epochs_train, prefix='fc_train')\n",
    "HTML(display_videos('fc_train10.mp4'))"
   ]
  },
  {
   "cell_type": "markdown",
   "metadata": {},
   "source": [
    "***\n",
    "***\n",
    "__Question 8__ Implement the DQN training algorithm using a CNN (for example, 2 convolutional layers and one final fully connected layer)."
   ]
  },
  {
   "cell_type": "code",
   "execution_count": 15,
   "metadata": {},
   "outputs": [],
   "source": [
    "class DQN_CNN(DQN):\n",
    "    def __init__(self, *args,lr=0.1,**kwargs):\n",
    "        super(DQN_CNN, self).__init__(*args,**kwargs)\n",
    "        \n",
    "        ##### Fill in\n",
    "\n",
    "        model = Sequential()\n",
    "        model.add(Conv2D(64, (2,2), input_shape=(5,5,self.n_state), activation='relu'))\n",
    "        model.add(Conv2D(32, (2,2), activation='relu'))\n",
    "        model.add(Dropout(0.25))\n",
    "        model.add(Flatten())\n",
    "        model.add(Dense(4, activation='softmax'))\n",
    "        \n",
    "        ##### / Fill in\n",
    "        \n",
    "        model.compile(sgd(lr=lr, decay=1e-4, momentum=0.0), \"mse\")\n",
    "        self.model = model"
   ]
  },
  {
   "cell_type": "code",
   "execution_count": 16,
   "metadata": {},
   "outputs": [
    {
     "name": "stdout",
     "output_type": "stream",
     "text": [
      "Epoch 000/030 | Loss 0.0006 | Win/lose count 2.0/2.0 (0.0)\n",
      "Epoch 001/030 | Loss 0.0037 | Win/lose count 4.5/2.0 (2.5)\n",
      "Epoch 002/030 | Loss 0.0082 | Win/lose count 1.0/0 (1.0)\n",
      "Epoch 003/030 | Loss 0.0015 | Win/lose count 1.5/4.0 (-2.5)\n",
      "Epoch 004/030 | Loss 0.0058 | Win/lose count 4.0/4.0 (0.0)\n",
      "Epoch 005/030 | Loss 0.0039 | Win/lose count 5.5/3.0 (2.5)\n",
      "Epoch 006/030 | Loss 0.0012 | Win/lose count 3.0/9.0 (-6.0)\n",
      "Epoch 007/030 | Loss 0.0075 | Win/lose count 3.5/2.0 (1.5)\n",
      "Epoch 008/030 | Loss 0.0012 | Win/lose count 1.0/1.0 (0.0)\n",
      "Epoch 009/030 | Loss 0.0035 | Win/lose count 1.0/2.0 (-1.0)\n",
      "Epoch 010/030 | Loss 0.0006 | Win/lose count 3.0/1.0 (2.0)\n",
      "Epoch 011/030 | Loss 0.0032 | Win/lose count 7.0/0 (7.0)\n",
      "Epoch 012/030 | Loss 0.0042 | Win/lose count 4.0/2.0 (2.0)\n",
      "Epoch 013/030 | Loss 0.0022 | Win/lose count 2.0/4.0 (-2.0)\n",
      "Epoch 014/030 | Loss 0.0010 | Win/lose count 3.5/5.0 (-1.5)\n",
      "Epoch 015/030 | Loss 0.0070 | Win/lose count 6.0/1.0 (5.0)\n",
      "Epoch 016/030 | Loss 0.0034 | Win/lose count 2.5/3.0 (-0.5)\n",
      "Epoch 017/030 | Loss 0.0128 | Win/lose count 2.5/3.0 (-0.5)\n",
      "Epoch 018/030 | Loss 0.0081 | Win/lose count 5.5/0 (5.5)\n",
      "Epoch 019/030 | Loss 0.0059 | Win/lose count 6.5/3.0 (3.5)\n",
      "Epoch 020/030 | Loss 0.0134 | Win/lose count 4.5/0 (4.5)\n",
      "Epoch 021/030 | Loss 0.0061 | Win/lose count 3.5/1.0 (2.5)\n",
      "Epoch 022/030 | Loss 0.0062 | Win/lose count 7.0/2.0 (5.0)\n",
      "Epoch 023/030 | Loss 0.0058 | Win/lose count 2.0/3.0 (-1.0)\n",
      "Epoch 024/030 | Loss 0.0008 | Win/lose count 2.0/2.0 (0.0)\n",
      "Epoch 025/030 | Loss 0.0028 | Win/lose count 7.0/3.0 (4.0)\n",
      "Epoch 026/030 | Loss 0.0075 | Win/lose count 6.5/1.0 (5.5)\n",
      "Epoch 027/030 | Loss 0.0041 | Win/lose count 4.5/1.0 (3.5)\n",
      "Epoch 028/030 | Loss 0.0052 | Win/lose count 7.0/5.0 (2.0)\n",
      "Epoch 029/030 | Loss 0.0042 | Win/lose count 4.5/6.0 (-1.5)\n"
     ]
    },
    {
     "data": {
      "text/html": [
       "<video alt=\"test\" controls>\n",
       "                <source src=\"data:video/mp4;base64,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\" type=\"video/mp4\" />\n",
       "             </video>"
      ],
      "text/plain": [
       "<IPython.core.display.HTML object>"
      ]
     },
     "execution_count": 16,
     "metadata": {},
     "output_type": "execute_result"
    }
   ],
   "source": [
    "env = Environment(grid_size=size, max_time=T, temperature=0.3)\n",
    "agent = DQN_CNN(size, lr=.1, epsilon = 0.1, memory_size=2000, batch_size = 32)\n",
    "train(agent,env,epochs_train,prefix='cnn_train')\n",
    "HTML(display_videos('cnn_train10.mp4'))"
   ]
  },
  {
   "cell_type": "markdown",
   "metadata": {},
   "source": [
    "***\n",
    "***\n",
    "__Question 9__ Test both algorithms and compare their performances. Which issue(s) do you observe? Observe also different behaviors by changing the temperature."
   ]
  },
  {
   "cell_type": "code",
   "execution_count": 17,
   "metadata": {},
   "outputs": [
    {
     "name": "stdout",
     "output_type": "stream",
     "text": [
      "Test of the CNN\n",
      "Win/lose count 2.5/0. Average score (2.5)\n",
      "Win/lose count 1.0/0. Average score (1.75)\n",
      "Win/lose count 1.5/0. Average score (1.6666666666666667)\n",
      "Win/lose count 2.0/0. Average score (1.75)\n",
      "Win/lose count 0/0. Average score (1.4)\n",
      "Win/lose count 0.5/0. Average score (1.25)\n",
      "Win/lose count 0.5/0. Average score (1.1428571428571428)\n",
      "Win/lose count 1.0/0. Average score (1.125)\n",
      "Win/lose count 1.5/0. Average score (1.1666666666666667)\n",
      "Win/lose count 2.0/0. Average score (1.25)\n",
      "Win/lose count 3.5/0. Average score (1.4545454545454546)\n",
      "Win/lose count 2.0/0. Average score (1.5)\n",
      "Win/lose count 2.0/0. Average score (1.5384615384615385)\n",
      "Win/lose count 2.5/0. Average score (1.6071428571428572)\n",
      "Win/lose count 4.5/1.0. Average score (1.7333333333333334)\n",
      "Final score: 1.7333333333333334\n",
      "Test of the FC\n",
      "Win/lose count 1.0/2.0. Average score (-1.0)\n",
      "Win/lose count 1.0/1.0. Average score (-0.5)\n",
      "Win/lose count 1.5/0. Average score (0.16666666666666666)\n",
      "Win/lose count 1.0/1.0. Average score (0.125)\n",
      "Win/lose count 2.5/2.0. Average score (0.2)\n",
      "Win/lose count 0.5/1.0. Average score (0.08333333333333333)\n",
      "Win/lose count 0/0. Average score (0.07142857142857142)\n",
      "Win/lose count 3.0/1.0. Average score (0.3125)\n",
      "Win/lose count 2.5/3.0. Average score (0.2222222222222222)\n",
      "Win/lose count 1.0/0. Average score (0.3)\n",
      "Win/lose count 0.5/0. Average score (0.3181818181818182)\n",
      "Win/lose count 1.0/0. Average score (0.375)\n",
      "Win/lose count 1.5/2.0. Average score (0.3076923076923077)\n",
      "Win/lose count 0/0. Average score (0.2857142857142857)\n",
      "Win/lose count 0/0. Average score (0.26666666666666666)\n",
      "Final score: 0.26666666666666666\n"
     ]
    }
   ],
   "source": [
    "env = Environment(grid_size=size, max_time=T,temperature=0.3)\n",
    "agent_cnn = DQN_CNN(size, lr=.1, epsilon = 0.1, memory_size=2000, batch_size = 32)\n",
    "agent_cnn.load(name_weights='cnn_trainmodel.h5',name_model='cnn_trainmodel.json')\n",
    "\n",
    "agent_fc = DQN_FC(size, lr=.1, epsilon = 0.1, memory_size=2000, batch_size = 32)\n",
    "agent_cnn.load(name_weights='fc_trainmodel.h5',name_model='fc_trainmodel.json')\n",
    "print('Test of the CNN')\n",
    "test(agent_cnn,env,epochs_test,prefix='cnn_test')\n",
    "print('Test of the FC')\n",
    "test(agent_fc,env,epochs_test,prefix='fc_test')"
   ]
  },
  {
   "cell_type": "code",
   "execution_count": 18,
   "metadata": {},
   "outputs": [
    {
     "data": {
      "text/html": [
       "<video alt=\"test\" controls>\n",
       "                <source src=\"data:video/mp4;base64,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\" type=\"video/mp4\" />\n",
       "             </video>"
      ],
      "text/plain": [
       "<IPython.core.display.HTML object>"
      ]
     },
     "execution_count": 18,
     "metadata": {},
     "output_type": "execute_result"
    }
   ],
   "source": [
    "HTML(display_videos('cnn_test10.mp4'))"
   ]
  },
  {
   "cell_type": "code",
   "execution_count": 19,
   "metadata": {},
   "outputs": [
    {
     "data": {
      "text/html": [
       "<video alt=\"test\" controls>\n",
       "                <source src=\"data:video/mp4;base64,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\" type=\"video/mp4\" />\n",
       "             </video>"
      ],
      "text/plain": [
       "<IPython.core.display.HTML object>"
      ]
     },
     "execution_count": 19,
     "metadata": {},
     "output_type": "execute_result"
    }
   ],
   "source": [
    "HTML(display_videos('fc_test10.mp4'))"
   ]
  },
  {
   "cell_type": "markdown",
   "metadata": {},
   "source": [
    "Cascade of fully connected layers performed better on test. The loss on train seems to oscilate for both models\n",
    "From the videos we can see that for FC the agent is tended to stick to its initial location, for CNN the situation is a little bit better.\n",
    "\n",
    "Increasing the tempreture improves the scores, because the task is becoming esier - more chease on board means random behaviour will result in higher reward."
   ]
  },
  {
   "cell_type": "markdown",
   "metadata": {},
   "source": [
    "***\n",
    "\n",
    "The algorithm tends to not explore the map which can be an issue. We propose two ideas in order to encourage exploration:\n",
    "1. Incorporating a decreasing $\\epsilon$-greedy exploration. You can use the method ```set_epsilon```\n",
    "2. Append via the environment a new state that describes if a cell has been visited or not\n",
    "\n",
    "***\n",
    "__Question 10__ Design a new ```train_explore``` function and environment class ```EnvironmentExploring``` to tackle the issue of exploration.\n",
    "\n"
   ]
  },
  {
   "cell_type": "code",
   "execution_count": null,
   "metadata": {
    "collapsed": true
   },
   "outputs": [],
   "source": [
    "def train_explore(agent,env,epoch,prefix=''):\n",
    "    pass\n",
    "        \n",
    "class EnvironmentExploring(object):\n",
    "    def __init__(self, grid_size=10, max_time=500, temperature=0.1):\n",
    "        pass\n",
    "    \n",
    "## use those samples of code:\n",
    "#In train explore:\n",
    "state, reward, game_over = env.act(action, train=True)\n",
    "\n",
    "## In Environment exploring:\n",
    "# You will have to change n_state to 3 because you will use one more layer!\n",
    "reward = 0\n",
    "if train:\n",
    "    reward = -self.malus_position[self.x, self.y]\n",
    "self.malus_position[self.x, self.y] = 0.1\n",
    "\n",
    "reward = reward + self.board[self.x, self.y]\n",
    "# 3 \"feature\" states instead of 2\n",
    "state = np.concatenate((self.malus_position.reshape(self.grid_size, self.grid_size,1),\n",
    "                                self.board.reshape(self.grid_size, self.grid_size,1),\n",
    "                        self.position.reshape(self.grid_size, self.grid_size,1)),axis=2)"
   ]
  },
  {
   "cell_type": "code",
   "execution_count": null,
   "metadata": {
    "collapsed": true
   },
   "outputs": [],
   "source": [
    "# Training\n",
    "env = EnvironmentExploring(grid_size=size, max_time=T, temperature=0.3)\n",
    "agent = DQN_CNN(size, lr=.1, epsilon = 0.1, memory_size=2000, batch_size = 32,n_state=3)\n",
    "train_explore(agent, env, epochs_train, prefix='cnn_train_explore')\n",
    "HTML(display_videos('cnn_train_explore10.mp4'))"
   ]
  },
  {
   "cell_type": "code",
   "execution_count": null,
   "metadata": {
    "collapsed": true
   },
   "outputs": [],
   "source": [
    "# Evaluation\n",
    "test(agent,env,epochs_test,prefix='cnn_test_explore')\n",
    "HTML(display_videos('cnn_test_explore10.mp4'))"
   ]
  },
  {
   "cell_type": "markdown",
   "metadata": {},
   "source": [
    "***\n",
    "***\n",
    "__BONUS question__ Use the expert DQN from the previous question to generate some winning games. Train a model that mimicks its behavior. Compare the performances."
   ]
  },
  {
   "cell_type": "markdown",
   "metadata": {},
   "source": []
  },
  {
   "cell_type": "markdown",
   "metadata": {},
   "source": [
    "***"
   ]
  }
 ],
 "metadata": {
  "kernelspec": {
   "display_name": "Python 3",
   "language": "python",
   "name": "python3"
  },
  "language_info": {
   "codemirror_mode": {
    "name": "ipython",
    "version": 3
   },
   "file_extension": ".py",
   "mimetype": "text/x-python",
   "name": "python",
   "nbconvert_exporter": "python",
   "pygments_lexer": "ipython3",
   "version": "3.5.1"
  }
 },
 "nbformat": 4,
 "nbformat_minor": 2
}
